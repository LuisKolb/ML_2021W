{
 "cells": [
  {
   "cell_type": "markdown",
   "id": "db1f3e51",
   "metadata": {},
   "source": [
    "# Machine Learning Exercise 1 - Classification"
   ]
  },
  {
   "cell_type": "code",
   "execution_count": 1,
   "id": "1122a31d",
   "metadata": {},
   "outputs": [],
   "source": [
    "import pandas as pd\n",
    "from sklearn.model_selection import train_test_split\n",
    "from sklearn.neighbors import KNeighborsClassifier\n",
    "from sklearn.tree import DecisionTreeClassifier\n",
    "from sklearn.neural_network import MLPClassifier\n",
    "\n",
    "from sklearn.model_selection import cross_val_score\n",
    "\n",
    "from sklearn.preprocessing import LabelEncoder\n",
    "from sklearn.metrics import accuracy_score"
   ]
  },
  {
   "cell_type": "markdown",
   "id": "9f3597a0",
   "metadata": {},
   "source": [
    "## Mushroom Edibility"
   ]
  },
  {
   "cell_type": "code",
   "execution_count": 2,
   "id": "afdcb43e",
   "metadata": {},
   "outputs": [],
   "source": [
    "mushrooms = pd.read_csv('./mushrooms/mushrooms.csv')\n",
    "# encode labels\n",
    "mushrooms = mushrooms.apply(LabelEncoder().fit_transform)\n",
    "\n",
    "mushrooms_X = mushrooms.drop('edibility', axis=1)\n",
    "mushrooms_y = mushrooms['edibility']\n",
    "\n",
    "mushrooms_X_train, mushrooms_X_test, mushrooms_y_train, mushrooms_y_test = train_test_split(mushrooms_X, mushrooms_y)"
   ]
  },
  {
   "cell_type": "code",
   "execution_count": 3,
   "id": "96091a95",
   "metadata": {},
   "outputs": [
    {
     "name": "stdout",
     "output_type": "stream",
     "text": [
      "KNN accuracy: 1.0\n"
     ]
    }
   ],
   "source": [
    "# model 1: KNN\n",
    "mushrooms_KNN_model = KNeighborsClassifier(n_neighbors=5)\n",
    "mushrooms_KNN_model.fit(mushrooms_X_train, mushrooms_y_train)\n",
    "mushrooms_KNN_prediction = mushrooms_KNN_model.predict(mushrooms_X_test)\n",
    "mushrooms_KNN_accuracy = accuracy_score(mushrooms_KNN_prediction, mushrooms_y_test)\n",
    "print('KNN accuracy:', mushrooms_KNN_accuracy)"
   ]
  },
  {
   "cell_type": "code",
   "execution_count": 4,
   "id": "f350aa44",
   "metadata": {},
   "outputs": [
    {
     "name": "stdout",
     "output_type": "stream",
     "text": [
      "DecisionTree accuracy: 1.0\n"
     ]
    }
   ],
   "source": [
    "# model 2: Decision Tree\n",
    "mushrooms_tree_model = DecisionTreeClassifier(random_state=0)\n",
    "mushrooms_tree_model.fit(mushrooms_X_train, mushrooms_y_train)\n",
    "mushrooms_tree_prediction = mushrooms_tree_model.predict(mushrooms_X_test)\n",
    "mushrooms_tree_accuracy = accuracy_score(mushrooms_tree_prediction, mushrooms_y_test)\n",
    "print('DecisionTree accuracy:', mushrooms_tree_accuracy)"
   ]
  },
  {
   "cell_type": "code",
   "execution_count": 5,
   "id": "cd1283e7",
   "metadata": {},
   "outputs": [
    {
     "name": "stdout",
     "output_type": "stream",
     "text": [
      "MultiLayerPerceptron accuracy: 1.0\n"
     ]
    }
   ],
   "source": [
    "# model 3: Multi-Layer Perceptron\n",
    "mushrooms_mlp_model = MLPClassifier(random_state=0)\n",
    "mushrooms_mlp_model.fit(mushrooms_X_train, mushrooms_y_train)\n",
    "mushrooms_mlp_prediction = mushrooms_mlp_model.predict(mushrooms_X_test)\n",
    "mushrooms_mlp_accuracy = accuracy_score(mushrooms_mlp_prediction, mushrooms_y_test)\n",
    "print('MultiLayerPerceptron accuracy:', mushrooms_mlp_accuracy)"
   ]
  },
  {
   "cell_type": "markdown",
   "id": "5fa1f842",
   "metadata": {},
   "source": [
    "## Soybeans"
   ]
  },
  {
   "cell_type": "code",
   "execution_count": 6,
   "id": "b950ae5c",
   "metadata": {},
   "outputs": [],
   "source": [
    "soybeans = pd.read_csv('./soybeans/soybean.csv')\n",
    "\n",
    "# encode labels\n",
    "soybeans = soybeans.apply(LabelEncoder().fit_transform)\n",
    "\n",
    "# handle missing values by dropping, see pdf for more info\n",
    "#soybeans[soybeans.precip != \"?\"]\n",
    "#soybeans.precip == \"?\"\n",
    "\n",
    "soybeans_X = soybeans.drop('class', axis=1)\n",
    "soybeans_y = soybeans['class']\n",
    "\n",
    "soybeans_X_train, soybeans_X_test, soybeans_y_train, soybeans_y_test = train_test_split(soybeans_X, soybeans_y)"
   ]
  },
  {
   "cell_type": "code",
   "execution_count": 7,
   "id": "cad13269",
   "metadata": {},
   "outputs": [
    {
     "name": "stdout",
     "output_type": "stream",
     "text": [
      "KNN accuracy: 0.8187134502923976\n"
     ]
    }
   ],
   "source": [
    "# model 1: KNN\n",
    "soybeans_KNN_model = KNeighborsClassifier(n_neighbors=5)\n",
    "soybeans_KNN_model.fit(soybeans_X_train, soybeans_y_train)\n",
    "soybeans_KNN_prediction = soybeans_KNN_model.predict(soybeans_X_test)\n",
    "soybeans_KNN_accuracy = accuracy_score(soybeans_KNN_prediction, soybeans_y_test)\n",
    "print('KNN accuracy:', soybeans_KNN_accuracy)"
   ]
  },
  {
   "cell_type": "code",
   "execution_count": 8,
   "id": "7e29c5d3",
   "metadata": {},
   "outputs": [
    {
     "name": "stdout",
     "output_type": "stream",
     "text": [
      "DecisionTree accuracy: 0.9064327485380117\n"
     ]
    }
   ],
   "source": [
    "# model 2: Decision Tree\n",
    "soybeans_tree_model = DecisionTreeClassifier()\n",
    "soybeans_tree_model.fit(soybeans_X_train, soybeans_y_train)\n",
    "soybeans_tree_prediction = soybeans_tree_model.predict(soybeans_X_test)\n",
    "soybeans_tree_accuracy = accuracy_score(soybeans_tree_prediction, soybeans_y_test)\n",
    "print('DecisionTree accuracy:', soybeans_tree_accuracy)"
   ]
  },
  {
   "cell_type": "code",
   "execution_count": 9,
   "id": "1e87fbef",
   "metadata": {},
   "outputs": [
    {
     "name": "stdout",
     "output_type": "stream",
     "text": [
      "MultiLayerPerceptron accuracy: 0.9181286549707602\n"
     ]
    },
    {
     "name": "stderr",
     "output_type": "stream",
     "text": [
      "/home/luis/projects/ds/lib/python3.8/site-packages/sklearn/neural_network/_multilayer_perceptron.py:692: ConvergenceWarning: Stochastic Optimizer: Maximum iterations (200) reached and the optimization hasn't converged yet.\n",
      "  warnings.warn(\n"
     ]
    }
   ],
   "source": [
    "# model 3: Multi-Layer Perceptron\n",
    "soybeans_mlp_model = MLPClassifier()\n",
    "soybeans_mlp_model.fit(soybeans_X_train, soybeans_y_train)\n",
    "soybeans_mlp_prediction = soybeans_mlp_model.predict(soybeans_X_test)\n",
    "soybeans_mlp_accuracy = accuracy_score(soybeans_mlp_prediction, soybeans_y_test)\n",
    "print('MultiLayerPerceptron accuracy:', soybeans_mlp_accuracy)"
   ]
  },
  {
   "cell_type": "markdown",
   "id": "d0f4aef6",
   "metadata": {},
   "source": [
    "## Breast Cancer Data"
   ]
  },
  {
   "cell_type": "code",
   "execution_count": 10,
   "id": "03352998",
   "metadata": {},
   "outputs": [],
   "source": [
    "breastcancer_train = pd.read_csv('./breastcancer/breast-cancer-diagnostic.shuf.lrn.csv')\n",
    "breastcancer_sol_input = pd.read_csv('./breastcancer/breast-cancer-diagnostic.shuf.tes.csv')\n",
    "\n",
    "\n",
    "breastcancer_train = breastcancer_train.drop('ID', axis=1)\n",
    "breastcancer_sol_input = breastcancer_sol_input.drop('ID', axis=1)\n",
    "\n",
    "breastcancer_X = breastcancer_train.drop('class', axis=1)\n",
    "breastcancer_y = breastcancer_train['class']\n",
    "\n",
    "breastcancer_X_train, breastcancer_X_test, breastcancer_y_train, breastcancer_y_test  = train_test_split(breastcancer_X, breastcancer_y)"
   ]
  },
  {
   "cell_type": "code",
   "execution_count": 11,
   "id": "4cfbc4b0",
   "metadata": {},
   "outputs": [
    {
     "name": "stdout",
     "output_type": "stream",
     "text": [
      "KNN accuracy: 0.9444444444444444\n"
     ]
    }
   ],
   "source": [
    "# model 1: KNN\n",
    "breastcancer_KNN_model = KNeighborsClassifier(n_neighbors=5)\n",
    "breastcancer_KNN_model.fit(breastcancer_X_train, breastcancer_y_train)\n",
    "breastcancer_KNN_prediction = breastcancer_KNN_model.predict(breastcancer_X_test)\n",
    "breastcancer_KNN_accuracy = accuracy_score(breastcancer_KNN_prediction, breastcancer_y_test)\n",
    "print('KNN accuracy:', breastcancer_KNN_accuracy)"
   ]
  },
  {
   "cell_type": "code",
   "execution_count": 12,
   "id": "ff1d824e",
   "metadata": {},
   "outputs": [
    {
     "name": "stdout",
     "output_type": "stream",
     "text": [
      "DecisionTree accuracy: 0.9166666666666666\n"
     ]
    }
   ],
   "source": [
    "# model 2: Decision Tree\n",
    "breastcancer_tree_model = DecisionTreeClassifier(random_state=0)\n",
    "breastcancer_tree_model.fit(breastcancer_X_train, breastcancer_y_train)\n",
    "breastcancer_tree_prediction = breastcancer_tree_model.predict(breastcancer_X_test)\n",
    "breastcancer_tree_accuracy = accuracy_score(breastcancer_tree_prediction, breastcancer_y_test)\n",
    "print('DecisionTree accuracy:', breastcancer_tree_accuracy)"
   ]
  },
  {
   "cell_type": "code",
   "execution_count": 13,
   "id": "440917c7",
   "metadata": {},
   "outputs": [
    {
     "name": "stdout",
     "output_type": "stream",
     "text": [
      "MultiLayerPerceptron accuracy: 0.9305555555555556\n"
     ]
    }
   ],
   "source": [
    "# model 3: Multi-Layer Perceptron\n",
    "breastcancer_mlp_model = MLPClassifier(random_state=0)\n",
    "breastcancer_mlp_model.fit(breastcancer_X_train, breastcancer_y_train)\n",
    "breastcancer_mlp_prediction = breastcancer_mlp_model.predict(breastcancer_X_test)\n",
    "breastcancer_mlp_accuracy = accuracy_score(breastcancer_mlp_prediction, breastcancer_y_test)\n",
    "print('MultiLayerPerceptron accuracy:', breastcancer_mlp_accuracy)"
   ]
  },
  {
   "cell_type": "code",
   "execution_count": 14,
   "id": "f8de4a48",
   "metadata": {},
   "outputs": [
    {
     "name": "stdout",
     "output_type": "stream",
     "text": [
      "Solution prediction: [ True False False False False  True  True False False False False False\n",
      "  True  True  True False False False False False  True  True False False\n",
      " False False False False False  True False False  True  True False False\n",
      "  True False False  True False False  True False  True  True False False\n",
      " False  True  True False False False  True  True False False  True False\n",
      " False  True  True False False False False  True False False False  True\n",
      " False  True  True  True False False  True False False  True False  True\n",
      "  True False False False False False  True False False False False False\n",
      " False False  True False  True False False  True False  True  True False\n",
      " False False False False  True False False  True False False False False\n",
      " False False  True False False False  True  True  True False False  True\n",
      "  True False False False  True False  True False  True  True  True False\n",
      " False  True False False False False False  True  True False  True False\n",
      " False  True  True False  True  True False False  True False False  True\n",
      " False  True  True  True  True False False False False False False False\n",
      " False  True  True False  True  True False  True False  True False  True\n",
      " False False  True False False False False False False False False False\n",
      "  True False  True False False False  True False False False False False\n",
      "  True False  True False False False False False False False  True False\n",
      " False  True False False False False False False False False  True False\n",
      " False False False False  True  True  True  True  True False False  True\n",
      "  True False False False  True False False False False  True  True False\n",
      " False  True False  True False False False  True False False False False\n",
      "  True False False False False False False  True]\n"
     ]
    }
   ],
   "source": [
    "# use the solution input\n",
    "breastcancer_KNN_prediction = breastcancer_KNN_model.predict(breastcancer_sol_input)\n",
    "#breastcancer_KNN_accuracy = accuracy_score(breastcancer_KNN_prediction, breastcancer_y_test)\n",
    "print('Solution prediction:', breastcancer_KNN_prediction)"
   ]
  },
  {
   "cell_type": "markdown",
   "id": "4c7e9c20",
   "metadata": {},
   "source": [
    "## Purchase Data"
   ]
  },
  {
   "cell_type": "code",
   "execution_count": 15,
   "id": "5b459995",
   "metadata": {},
   "outputs": [],
   "source": [
    "purchase_train = pd.read_csv('./purchase/purchase600-100cls-15k.lrn.csv')\n",
    "purchase_sol_input = pd.read_csv('./purchase/purchase600-100cls-15k.tes.csv')\n",
    "\n",
    "# labels do not need to be encoded, inputs are numeric\n",
    "#purchase_train = purchase_train.apply(LabelEncoder().fit_transform)\n",
    "\n",
    "purchase_train = purchase_train.drop('ID', axis=1)\n",
    "purchase_sol_input = purchase_sol_input.drop('ID', axis=1)\n",
    "\n",
    "purchase_X = purchase_train.drop('class', axis=1)\n",
    "purchase_y = purchase_train['class']\n",
    "\n",
    "purchase_X_train, purchase_X_test, purchase_y_train, purchase_y_test  = train_test_split(purchase_X, purchase_y)"
   ]
  },
  {
   "cell_type": "code",
   "execution_count": 16,
   "id": "d30dc229",
   "metadata": {},
   "outputs": [
    {
     "name": "stdout",
     "output_type": "stream",
     "text": [
      "KNN accuracy: 0.2512\n"
     ]
    }
   ],
   "source": [
    "# model 1: KNN\n",
    "purchase_KNN_model = KNeighborsClassifier(n_neighbors=5)\n",
    "purchase_KNN_model.fit(purchase_X_train, purchase_y_train)\n",
    "purchase_KNN_prediction = purchase_KNN_model.predict(purchase_X_test)\n",
    "purchase_KNN_accuracy = accuracy_score(purchase_KNN_prediction, purchase_y_test)\n",
    "print('KNN accuracy:', purchase_KNN_accuracy)"
   ]
  },
  {
   "cell_type": "code",
   "execution_count": 17,
   "id": "1842a824",
   "metadata": {},
   "outputs": [
    {
     "name": "stdout",
     "output_type": "stream",
     "text": [
      "DecisionTree accuracy: 0.078\n"
     ]
    }
   ],
   "source": [
    "# model 2: Decision Tree\n",
    "purchase_tree_model = DecisionTreeClassifier(random_state=0)\n",
    "purchase_tree_model.fit(purchase_X_train, purchase_y_train)\n",
    "purchase_tree_prediction = purchase_tree_model.predict(purchase_X_test)\n",
    "purchase_tree_accuracy = accuracy_score(purchase_tree_prediction, purchase_y_test)\n",
    "print('DecisionTree accuracy:', purchase_tree_accuracy)"
   ]
  },
  {
   "cell_type": "code",
   "execution_count": 18,
   "id": "fb686b5b",
   "metadata": {},
   "outputs": [
    {
     "name": "stdout",
     "output_type": "stream",
     "text": [
      "MultiLayerPerceptron accuracy: 0.658\n"
     ]
    }
   ],
   "source": [
    "# model 3: Multi-Layer Perceptron\n",
    "purchase_mlp_model = MLPClassifier(random_state=0)\n",
    "purchase_mlp_model.fit(purchase_X_train, purchase_y_train)\n",
    "purchase_mlp_prediction = purchase_mlp_model.predict(purchase_X_test)\n",
    "purchase_mlp_accuracy = accuracy_score(purchase_mlp_prediction, purchase_y_test)\n",
    "print('MultiLayerPerceptron accuracy:', purchase_mlp_accuracy)"
   ]
  },
  {
   "cell_type": "code",
   "execution_count": 19,
   "id": "fa3cec4b",
   "metadata": {},
   "outputs": [
    {
     "name": "stdout",
     "output_type": "stream",
     "text": [
      "Solution prediction: [82 62 36 ... 77 54 81]\n"
     ]
    }
   ],
   "source": [
    "# use the solution input\n",
    "purchase_KNN_prediction = purchase_KNN_model.predict(purchase_sol_input)\n",
    "#breastcancer_KNN_accuracy = accuracy_score(breastcancer_KNN_prediction, breastcancer_y_test)\n",
    "print('Solution prediction:', purchase_KNN_prediction)"
   ]
  },
  {
   "cell_type": "code",
   "execution_count": null,
   "id": "bda528e7",
   "metadata": {},
   "outputs": [],
   "source": []
  }
 ],
 "metadata": {
  "kernelspec": {
   "display_name": "Python 3 (ipykernel)",
   "language": "python",
   "name": "python3"
  },
  "language_info": {
   "codemirror_mode": {
    "name": "ipython",
    "version": 3
   },
   "file_extension": ".py",
   "mimetype": "text/x-python",
   "name": "python",
   "nbconvert_exporter": "python",
   "pygments_lexer": "ipython3",
   "version": "3.8.10"
  }
 },
 "nbformat": 4,
 "nbformat_minor": 5
}
