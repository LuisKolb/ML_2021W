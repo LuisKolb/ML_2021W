{
  "cells": [
    {
      "cell_type": "markdown",
      "metadata": {
        "id": "view-in-github",
        "colab_type": "text"
      },
      "source": [
        "<a href=\"https://colab.research.google.com/github/LuisKolb/MachineLearningWS21/blob/main/ex3-20ng.ipynb\" target=\"_parent\"><img src=\"https://colab.research.google.com/assets/colab-badge.svg\" alt=\"Open In Colab\"/></a>"
      ]
    },
    {
      "cell_type": "code",
      "execution_count": 1,
      "metadata": {
        "id": "6r_jtV_IMUpJ",
        "outputId": "70c839bc-a71f-468d-8211-8ada9ddb4beb",
        "colab": {
          "base_uri": "https://localhost:8080/"
        }
      },
      "outputs": [
        {
          "output_type": "stream",
          "name": "stdout",
          "text": [
            "Requirement already satisfied: tqdm in /usr/local/lib/python3.7/dist-packages (4.62.3)\n"
          ]
        }
      ],
      "source": [
        "!pip install tqdm"
      ],
      "id": "6r_jtV_IMUpJ"
    },
    {
      "cell_type": "code",
      "execution_count": 2,
      "id": "bbeec90e",
      "metadata": {
        "scrolled": false,
        "id": "bbeec90e",
        "outputId": "10d117d5-d083-4aee-9833-dec822da95fa",
        "colab": {
          "base_uri": "https://localhost:8080/"
        }
      },
      "outputs": [
        {
          "output_type": "stream",
          "name": "stdout",
          "text": [
            "Automatically created module for IPython interactive environment\n",
            "### no preprocessing ###\n",
            "Loading 20 newsgroups dataset for categories:\n",
            "['alt.atheism', 'talk.religion.misc']\n",
            "857 documents\n",
            "2 categories\n",
            "\n",
            "Performing grid search...\n",
            "pipeline: ['vect', 'tfidf', 'clf']\n",
            "parameters:\n",
            "{'clf__alpha': (1e-05, 1e-06),\n",
            " 'clf__penalty': ('l2', 'elasticnet'),\n",
            " 'vect__max_df': (0.5, 0.75, 1.0),\n",
            " 'vect__ngram_range': ((1, 1), (1, 2))}\n",
            "Fitting 5 folds for each of 24 candidates, totalling 120 fits\n",
            "done in 60.400s\n",
            "\n",
            "Best score: 0.950\n",
            "Best parameters set:\n",
            "\tclf__alpha: 1e-05\n",
            "\tclf__penalty: 'l2'\n",
            "\tvect__max_df: 1.0\n",
            "\tvect__ngram_range: (1, 2)\n",
            "\n",
            "### with headers, footers, quotes (metadata) removed ###\n",
            "Loading 20 newsgroups dataset for categories:\n",
            "['alt.atheism', 'talk.religion.misc']\n",
            "857 documents\n",
            "2 categories\n",
            "\n",
            "Performing grid search...\n",
            "pipeline: ['vect', 'tfidf', 'clf']\n",
            "parameters:\n",
            "{'clf__alpha': (1e-05, 1e-06),\n",
            " 'clf__penalty': ('l2', 'elasticnet'),\n",
            " 'vect__max_df': (0.5, 0.75, 1.0),\n",
            " 'vect__ngram_range': ((1, 1), (1, 2))}\n",
            "Fitting 5 folds for each of 24 candidates, totalling 120 fits\n",
            "done in 29.677s\n",
            "\n",
            "Best score: 0.797\n",
            "Best parameters set:\n",
            "\tclf__alpha: 1e-06\n",
            "\tclf__penalty: 'l2'\n",
            "\tvect__max_df: 1.0\n",
            "\tvect__ngram_range: (1, 2)\n"
          ]
        }
      ],
      "source": [
        "# adapted from https://scikit-learn.org/0.19/auto_examples/model_selection/grid_search_text_feature_extraction.html#sphx-glr-auto-examples-model-selection-grid-search-text-feature-extraction-py\n",
        "\n",
        "# Author: Olivier Grisel <olivier.grisel@ensta.org>\n",
        "#         Peter Prettenhofer <peter.prettenhofer@gmail.com>\n",
        "#         Mathieu Blondel <mathieu@mblondel.org>\n",
        "# License: BSD 3 clause\n",
        "\n",
        "from __future__ import print_function\n",
        "\n",
        "from pprint import pprint\n",
        "from time import time\n",
        "import logging\n",
        "\n",
        "from sklearn.datasets import fetch_20newsgroups\n",
        "from sklearn.feature_extraction.text import CountVectorizer\n",
        "from sklearn.feature_extraction.text import TfidfTransformer\n",
        "from sklearn.linear_model import SGDClassifier\n",
        "from sklearn.model_selection import GridSearchCV\n",
        "from sklearn.pipeline import Pipeline\n",
        "\n",
        "print(__doc__)\n",
        "\n",
        "# Display progress logs on stdout\n",
        "logging.basicConfig(level=logging.INFO, format='%(asctime)s %(levelname)s %(message)s')\n",
        "\n",
        "# #############################################################################\n",
        "# Define a pipeline combining a text feature extractor with a simple\n",
        "# classifier\n",
        "\n",
        "\n",
        "# uncommenting more parameters will give better exploring power but will\n",
        "# increase processing time in a combinatorial way\n",
        "default_parameters_sgd = {\n",
        "    'vect__max_df': (0.5, 0.75, 1.0),\n",
        "    #'vect__max_features': (None, 5000, 10000, 50000),\n",
        "    'vect__ngram_range': ((1, 1), (1, 2)),  # unigrams or bigrams\n",
        "    #'tfidf__use_idf': (True, False),\n",
        "    #'tfidf__norm': ('l1', 'l2'),\n",
        "    'clf__alpha': (0.00001, 0.000001),\n",
        "    'clf__penalty': ('l2', 'elasticnet'),\n",
        "    #'clf__n_iter': (10, 50, 80),\n",
        "}\n",
        "\n",
        "def run_model(remove=(), categories=None, clf=SGDClassifier(), parameters=default_parameters_sgd):\n",
        "    print(\"Loading 20 newsgroups dataset for categories:\")\n",
        "    print(categories)\n",
        "    \n",
        "    data = fetch_20newsgroups(subset='train', categories=categories, remove=remove)\n",
        "    print(\"%d documents\" % len(data.filenames))\n",
        "    print(\"%d categories\" % len(data.target_names))\n",
        "    print()\n",
        "    \n",
        "    pipeline = Pipeline([\n",
        "        ('vect', CountVectorizer()),\n",
        "        ('tfidf', TfidfTransformer()),\n",
        "        ('clf', clf),\n",
        "    ])\n",
        "\n",
        "    # find the best parameters for both the feature extraction and the\n",
        "    # classifier\n",
        "    grid_search = GridSearchCV(pipeline, parameters, n_jobs=-1, verbose=1)\n",
        "\n",
        "    print(\"Performing grid search...\")\n",
        "    print(\"pipeline:\", [name for name, _ in pipeline.steps])\n",
        "    print(\"parameters:\")\n",
        "    pprint(parameters)\n",
        "    t0 = time()\n",
        "    grid_search.fit(data.data, data.target)\n",
        "    print(\"done in %0.3fs\" % (time() - t0))\n",
        "    print()\n",
        "\n",
        "    print(\"Best score: %0.3f\" % grid_search.best_score_)\n",
        "    print(\"Best parameters set:\")\n",
        "    best_parameters = grid_search.best_estimator_.get_params()\n",
        "    for param_name in sorted(parameters.keys()):\n",
        "        print(\"\\t%s: %r\" % (param_name, best_parameters[param_name]))\n",
        "        \n",
        "if __name__ == \"__main__\":\n",
        "    categories = [\n",
        "        'alt.atheism',\n",
        "        'talk.religion.misc',\n",
        "    ]\n",
        "    #categories = None\n",
        "    \n",
        "    print('### no preprocessing ###')\n",
        "    run_model(categories=categories)\n",
        "\n",
        "    print()\n",
        "    print('### with headers, footers, quotes (metadata) removed ###')\n",
        "    run_model(categories=categories, remove=(('headers', 'footers', 'quotes')))\n",
        "    \n",
        "    #print()\n",
        "    #print('### with headers, footers, quotes (metadata) removed ###')\n",
        "    #run_model(categories=categories,\n",
        "    #          remove=(('headers', 'footers', 'quotes')),\n",
        "    #          clf=LogisticRegression(),\n",
        "    #          parameters={\n",
        "    #              'vect__max_df': (0.5, 0.75, 1.0),\n",
        "    #              #'vect__max_features': (None, 5000, 10000, 50000),\n",
        "    #              'vect__ngram_range': ((1, 1), (1, 2)),  # unigrams or bigrams\n",
        "    #              #'tfidf__use_idf': (True, False),\n",
        "    #              #'tfidf__norm': ('l1', 'l2'),\n",
        "    #          })\n",
        "    "
      ]
    },
    {
      "cell_type": "code",
      "execution_count": 3,
      "id": "6308a61d",
      "metadata": {
        "id": "6308a61d",
        "outputId": "aa378c23-0621-4866-d15e-9883d15b1524",
        "colab": {
          "base_uri": "https://localhost:8080/"
        }
      },
      "outputs": [
        {
          "output_type": "stream",
          "name": "stdout",
          "text": [
            "Version:  2.8.0\n",
            "Eager mode:  True\n",
            "Hub version:  0.12.0\n",
            "GPU is available\n"
          ]
        }
      ],
      "source": [
        "import numpy as np\n",
        "\n",
        "from tqdm import tqdm\n",
        "\n",
        "from sklearn.datasets import fetch_20newsgroups\n",
        "from sklearn.model_selection import train_test_split\n",
        "\n",
        "from keras.preprocessing.text import Tokenizer\n",
        "from keras.preprocessing.sequence import pad_sequences\n",
        "from keras.utils.np_utils import to_categorical\n",
        "from keras.layers import Dense, Input, Flatten\n",
        "from keras.layers import Conv1D, MaxPooling1D, Embedding, Dropout, Reshape\n",
        "from keras.models import Model\n",
        "\n",
        "import matplotlib.pyplot as plt\n",
        "import pandas as pd\n",
        "\n",
        "import os\n",
        "\n",
        "import tensorflow as tf\n",
        "import tensorflow_hub as hub\n",
        "import tensorflow_datasets as tfds\n",
        "\n",
        "print(\"Version: \", tf.__version__)\n",
        "print(\"Eager mode: \", tf.executing_eagerly())\n",
        "print(\"Hub version: \", hub.__version__)\n",
        "print(\"GPU is\", \"available\" if tf.config.list_physical_devices(\"GPU\") else \"NOT AVAILABLE\")"
      ]
    },
    {
      "cell_type": "code",
      "execution_count": 4,
      "id": "4ffc2b13",
      "metadata": {
        "id": "4ffc2b13",
        "outputId": "cfd77340-83d6-4c66-c48c-b56c65f6c201",
        "colab": {
          "base_uri": "https://localhost:8080/"
        }
      },
      "outputs": [
        {
          "output_type": "stream",
          "name": "stdout",
          "text": [
            "['sci.crypt', 'sci.electronics']\n",
            "1186\n"
          ]
        }
      ],
      "source": [
        "categories = ['sci.crypt', 'sci.electronics'] \n",
        "#categories = None\n",
        "\n",
        "\n",
        "\n",
        "num_cats = 20\n",
        "if categories:\n",
        "  num_cats = len(categories)\n",
        "\n",
        "newsgroups = fetch_20newsgroups(shuffle=True, categories=categories,)\n",
        "\n",
        "print (newsgroups.target_names)\n",
        "print (len(newsgroups.data))\n",
        "\n",
        "df_data = pd.DataFrame(newsgroups.data)\n",
        "X_train, X_test, y_train, y_test = train_test_split(newsgroups.data, newsgroups.target, test_size=0.5)\n",
        "\n",
        "X_train, X_val, y_train, y_val = train_test_split(X_train, y_train, test_size=0.4)\n",
        "\n",
        "\n",
        "X_train_data = tf.convert_to_tensor(X_train)\n",
        "y_train_data = tf.convert_to_tensor(y_train)\n",
        "\n",
        "X_val_data = tf.convert_to_tensor(X_val)\n",
        "y_val_data = tf.convert_to_tensor(y_val)\n",
        "\n",
        "X_test_data = tf.convert_to_tensor(X_test)\n",
        "y_test_data = tf.convert_to_tensor(y_test)\n",
        "\n",
        "#train_data = tf.stack([X_train_data, y_train_data], axis = 0)"
      ]
    },
    {
      "cell_type": "markdown",
      "source": [
        "## DL prep"
      ],
      "metadata": {
        "id": "vypLh_k7oB1E"
      },
      "id": "vypLh_k7oB1E"
    },
    {
      "cell_type": "code",
      "execution_count": 5,
      "metadata": {
        "id": "a3CerF39D6a7"
      },
      "outputs": [],
      "source": [
        "# This might be necessary if running locally, depending on your machine's hardware\n",
        "\n",
        "physical_devices = tf.config.list_physical_devices('GPU')\n",
        "try:\n",
        "    tf.config.experimental.set_memory_growth(physical_devices[0], True)\n",
        "except:\n",
        "    # Invalid device or cannot modify virtual devices once initialized.\n",
        "    pass"
      ],
      "id": "a3CerF39D6a7"
    },
    {
      "cell_type": "code",
      "execution_count": 6,
      "metadata": {
        "scrolled": true,
        "id": "JS4gMsR7D6a9",
        "outputId": "f40618fe-be59-492b-856d-e44436c624f1",
        "colab": {
          "base_uri": "https://localhost:8080/"
        }
      },
      "outputs": [
        {
          "output_type": "stream",
          "name": "stderr",
          "text": [
            "2022-02-20 17:31:16,060 INFO Using /tmp/tfhub_modules to cache modules.\n"
          ]
        },
        {
          "output_type": "execute_result",
          "data": {
            "text/plain": [
              "<tf.Tensor: shape=(3, 512), dtype=float32, numpy=\n",
              "array([[-4.5227993e-02,  4.5982655e-02, -5.4304842e-02, ...,\n",
              "         7.3377371e-02, -2.8729284e-02, -4.4180233e-02],\n",
              "       [-3.4875162e-02, -1.3729218e-02, -1.6186746e-02, ...,\n",
              "         4.8609640e-02, -3.1451788e-03, -8.5136943e-02],\n",
              "       [-2.9586505e-02, -5.6830168e-02,  1.0245519e-05, ...,\n",
              "         2.8120769e-02, -6.9357090e-02,  3.5066854e-02]], dtype=float32)>"
            ]
          },
          "metadata": {},
          "execution_count": 6
        }
      ],
      "source": [
        "embedding = \"https://tfhub.dev/google/universal-sentence-encoder/4\"\n",
        "hub_layer = hub.KerasLayer(embedding, input_shape=[], \n",
        "                           dtype=tf.string, trainable=True)\n",
        "hub_layer(X_train_data[:3])"
      ],
      "id": "JS4gMsR7D6a9"
    },
    {
      "cell_type": "code",
      "source": [
        "# helper functions\n",
        "\n",
        "def epoch_plots(history):\n",
        "  plt.figure(figsize =(5,3))\n",
        "  plt.plot(history.history['loss'], marker='.', label='train')\n",
        "  plt.plot(history.history['val_loss'], marker='.', label='validation')\n",
        "  plt.title('Loss')\n",
        "  plt.grid(True)\n",
        "  plt.xlabel('epoch')\n",
        "  plt.ylabel('loss')\n",
        "  plt.legend(loc='best')\n",
        "  plt.show()\n",
        "\n",
        "  plt.figure(figsize =(5,3))\n",
        "  plt.plot(history.history['accuracy'], marker='.', label='train')\n",
        "  plt.plot(history.history['val_accuracy'], marker='.', label='validation')\n",
        "  plt.title('Accuracy')\n",
        "  plt.grid(True)\n",
        "  plt.xlabel('epoch')\n",
        "  plt.ylabel('accuracy')\n",
        "  plt.legend(loc='best')\n",
        "  plt.show()"
      ],
      "metadata": {
        "id": "nlwwTUDrNqzR"
      },
      "execution_count": 7,
      "outputs": [],
      "id": "nlwwTUDrNqzR"
    },
    {
      "cell_type": "markdown",
      "source": [
        "## Basic Models\n",
        "These are very basic Layer designs to get a baseline reading before further tuning."
      ],
      "metadata": {
        "id": "j961mtj_FwB8"
      },
      "id": "j961mtj_FwB8"
    },
    {
      "cell_type": "markdown",
      "source": [
        "### CNN"
      ],
      "metadata": {
        "id": "rsgfqK4vFpLe"
      },
      "id": "rsgfqK4vFpLe"
    },
    {
      "cell_type": "code",
      "source": [
        "model = tf.keras.Sequential()\n",
        "model.add(hub_layer)\n",
        "model.add(tf.keras.layers.Dense(16, activation='relu'))\n",
        "model.add(tf.keras.layers.Dense(1))\n",
        "\n",
        "model.summary()\n",
        "\n",
        "model.compile(optimizer='adam',\n",
        "              loss=tf.keras.losses.BinaryCrossentropy(from_logits=True),\n",
        "              metrics=['accuracy'])\n",
        "\n",
        "history = model.fit(x = X_train_data,\n",
        "                    y = y_train_data,\n",
        "                    batch_size=128,\n",
        "                    epochs=10,\n",
        "                    validation_data=(X_val_data, y_val_data),\n",
        "                    verbose=1)\n",
        "\n",
        "results = model.evaluate(x = X_test_data,\n",
        "                         y = y_test_data,\n",
        "                         batch_size=128,\n",
        "                         verbose=2)\n",
        "\n",
        "for name, value in zip(model.metrics_names, results):\n",
        "  print(\"%s: %.3f\" % (name, value))"
      ],
      "metadata": {
        "id": "ZO2Kt94bFIx4",
        "outputId": "ba9ec20f-a628-4508-d2c7-fe394d86a636",
        "colab": {
          "base_uri": "https://localhost:8080/"
        }
      },
      "execution_count": 8,
      "outputs": [
        {
          "output_type": "stream",
          "name": "stdout",
          "text": [
            "Model: \"sequential\"\n",
            "_________________________________________________________________\n",
            " Layer (type)                Output Shape              Param #   \n",
            "=================================================================\n",
            " keras_layer (KerasLayer)    (None, 512)               256797824 \n",
            "                                                                 \n",
            " dense (Dense)               (None, 16)                8208      \n",
            "                                                                 \n",
            " dense_1 (Dense)             (None, 1)                 17        \n",
            "                                                                 \n",
            "=================================================================\n",
            "Total params: 256,806,049\n",
            "Trainable params: 256,806,049\n",
            "Non-trainable params: 0\n",
            "_________________________________________________________________\n",
            "Epoch 1/10\n",
            "3/3 [==============================] - 14s 1s/step - loss: 0.6785 - accuracy: 0.4761 - val_loss: 0.6470 - val_accuracy: 0.5630\n",
            "Epoch 2/10\n",
            "3/3 [==============================] - 3s 1s/step - loss: 0.6148 - accuracy: 0.4761 - val_loss: 0.5804 - val_accuracy: 0.5756\n",
            "Epoch 3/10\n",
            "3/3 [==============================] - 3s 892ms/step - loss: 0.5441 - accuracy: 0.6141 - val_loss: 0.5297 - val_accuracy: 0.7941\n",
            "Epoch 4/10\n",
            "3/3 [==============================] - 3s 1s/step - loss: 0.4692 - accuracy: 0.9127 - val_loss: 0.4664 - val_accuracy: 0.8529\n",
            "Epoch 5/10\n",
            "3/3 [==============================] - 3s 1s/step - loss: 0.3949 - accuracy: 0.9606 - val_loss: 0.4118 - val_accuracy: 0.9244\n",
            "Epoch 6/10\n",
            "3/3 [==============================] - 3s 1s/step - loss: 0.3282 - accuracy: 0.9887 - val_loss: 0.3625 - val_accuracy: 0.9538\n",
            "Epoch 7/10\n",
            "3/3 [==============================] - 3s 1s/step - loss: 0.2700 - accuracy: 0.9944 - val_loss: 0.3231 - val_accuracy: 0.9496\n",
            "Epoch 8/10\n",
            "3/3 [==============================] - 3s 892ms/step - loss: 0.2218 - accuracy: 1.0000 - val_loss: 0.2875 - val_accuracy: 0.9496\n",
            "Epoch 9/10\n",
            "3/3 [==============================] - 3s 1s/step - loss: 0.1840 - accuracy: 1.0000 - val_loss: 0.2584 - val_accuracy: 0.9454\n",
            "Epoch 10/10\n",
            "3/3 [==============================] - 3s 1s/step - loss: 0.1547 - accuracy: 1.0000 - val_loss: 0.2354 - val_accuracy: 0.9496\n",
            "5/5 - 2s - loss: 0.2148 - accuracy: 0.9646 - 2s/epoch - 393ms/step\n",
            "loss: 0.215\n",
            "accuracy: 0.965\n"
          ]
        }
      ],
      "id": "ZO2Kt94bFIx4"
    },
    {
      "cell_type": "code",
      "source": [
        "epoch_plots(history)"
      ],
      "metadata": {
        "id": "kLaH_UHJG8eR",
        "outputId": "f0dcca87-23a7-45e9-a730-4a148aadea7c",
        "colab": {
          "base_uri": "https://localhost:8080/",
          "height": 465
        }
      },
      "execution_count": 9,
      "outputs": [
        {
          "output_type": "display_data",
          "data": {
            "image/png": "[encoded data removed]",
            "text/plain": [
              "<Figure size 360x216 with 1 Axes>"
            ]
          },
          "metadata": {
            "needs_background": "light"
          }
        },
        {
          "output_type": "display_data",
          "data": {
            "image/png": "[encoded data removed]",
            "text/plain": [
              "<Figure size 360x216 with 1 Axes>"
            ]
          },
          "metadata": {
            "needs_background": "light"
          }
        }
      ],
      "id": "kLaH_UHJG8eR"
    },
    {
      "cell_type": "code",
      "source": [
        "# depending on your GPU-RAM you might need to clear the model out of memory to avoid OOM-errors\n",
        "del model"
      ],
      "metadata": {
        "id": "aBgYNFVdHbfo"
      },
      "execution_count": 10,
      "outputs": [],
      "id": "aBgYNFVdHbfo"
    },
    {
      "cell_type": "markdown",
      "source": [
        "Interesting finding: influence of batch size is very high! We get good accuracy ad default batch size of 32, while batch size of 512 like we used in the movie reviews gives terrible results."
      ],
      "metadata": {
        "id": "3QQm0HZlB4rH"
      },
      "id": "3QQm0HZlB4rH"
    },
    {
      "cell_type": "markdown",
      "source": [
        "### RNN"
      ],
      "metadata": {
        "id": "zlolVaWjFtM-"
      },
      "id": "zlolVaWjFtM-"
    },
    {
      "cell_type": "code",
      "execution_count": 12,
      "metadata": {
        "scrolled": false,
        "id": "lPbwRXoaD6a-",
        "outputId": "d0c3cd9d-7b2d-4988-f27d-70573e819ed9",
        "colab": {
          "base_uri": "https://localhost:8080/"
        }
      },
      "outputs": [
        {
          "output_type": "stream",
          "name": "stdout",
          "text": [
            "Model: \"sequential_2\"\n",
            "_________________________________________________________________\n",
            " Layer (type)                Output Shape              Param #   \n",
            "=================================================================\n",
            " keras_layer (KerasLayer)    (None, 512)               256797824 \n",
            "                                                                 \n",
            " reshape_1 (Reshape)         (None, 512, 1)            0         \n",
            "                                                                 \n",
            " lstm_1 (LSTM)               (None, 16)                1152      \n",
            "                                                                 \n",
            " dense_3 (Dense)             (None, 1)                 17        \n",
            "                                                                 \n",
            "=================================================================\n",
            "Total params: 256,798,993\n",
            "Trainable params: 256,798,993\n",
            "Non-trainable params: 0\n",
            "_________________________________________________________________\n",
            "Epoch 1/10\n",
            "3/3 [==============================] - 11s 2s/step - loss: 0.6935 - accuracy: 0.4761 - val_loss: 0.6938 - val_accuracy: 0.5630\n",
            "Epoch 2/10\n",
            "3/3 [==============================] - 3s 1s/step - loss: 0.6914 - accuracy: 0.4761 - val_loss: 0.6941 - val_accuracy: 0.5630\n",
            "Epoch 3/10\n",
            "3/3 [==============================] - 3s 1s/step - loss: 0.6899 - accuracy: 0.4761 - val_loss: 0.6940 - val_accuracy: 0.5630\n",
            "Epoch 4/10\n",
            "3/3 [==============================] - 3s 1s/step - loss: 0.6880 - accuracy: 0.4761 - val_loss: 0.6936 - val_accuracy: 0.5630\n",
            "Epoch 5/10\n",
            "3/3 [==============================] - 3s 935ms/step - loss: 0.6861 - accuracy: 0.4761 - val_loss: 0.6933 - val_accuracy: 0.5630\n",
            "Epoch 6/10\n",
            "3/3 [==============================] - 3s 1s/step - loss: 0.6843 - accuracy: 0.4761 - val_loss: 0.6928 - val_accuracy: 0.5630\n",
            "Epoch 7/10\n",
            "3/3 [==============================] - 3s 1s/step - loss: 0.6822 - accuracy: 0.4761 - val_loss: 0.6920 - val_accuracy: 0.5630\n",
            "Epoch 8/10\n",
            "3/3 [==============================] - 4s 1s/step - loss: 0.6799 - accuracy: 0.4761 - val_loss: 0.6907 - val_accuracy: 0.5630\n",
            "Epoch 9/10\n",
            "3/3 [==============================] - 3s 1s/step - loss: 0.6771 - accuracy: 0.4761 - val_loss: 0.6887 - val_accuracy: 0.5630\n",
            "Epoch 10/10\n",
            "3/3 [==============================] - 3s 1s/step - loss: 0.6736 - accuracy: 0.4761 - val_loss: 0.6861 - val_accuracy: 0.5630\n",
            "5/5 - 2s - loss: 0.6780 - accuracy: 0.4924 - 2s/epoch - 410ms/step\n",
            "loss: 0.678\n",
            "accuracy: 0.492\n"
          ]
        }
      ],
      "source": [
        "model = tf.keras.Sequential()\n",
        "model.add(hub_layer)\n",
        "model.add(tf.keras.layers.Reshape((512, 1)))\n",
        "model.add(tf.keras.layers.LSTM(16))\n",
        "model.add(tf.keras.layers.Dense(1))\n",
        "\n",
        "model.summary()\n",
        "\n",
        "model.compile(optimizer='adam',\n",
        "              loss=tf.keras.losses.BinaryCrossentropy(from_logits=True),\n",
        "              metrics=['accuracy'])\n",
        "\n",
        "history = model.fit(x = X_train_data,\n",
        "                    y = y_train_data,\n",
        "                    batch_size=128,\n",
        "                    epochs=10,\n",
        "                    validation_data=(X_val_data, y_val_data),\n",
        "                    verbose=1)\n",
        "\n",
        "results = model.evaluate(x = X_test_data,\n",
        "                         y = y_test_data,\n",
        "                         batch_size=128,\n",
        "                         verbose=2)\n",
        "\n",
        "for name, value in zip(model.metrics_names, results):\n",
        "  print(\"%s: %.3f\" % (name, value))"
      ],
      "id": "lPbwRXoaD6a-"
    },
    {
      "cell_type": "code",
      "source": [
        "epoch_plots(history)"
      ],
      "metadata": {
        "id": "JOjDLSj2GfX4",
        "outputId": "ef96239b-e080-4add-92bb-33c5a4d6aa2f",
        "colab": {
          "base_uri": "https://localhost:8080/",
          "height": 465
        }
      },
      "execution_count": 13,
      "outputs": [
        {
          "output_type": "display_data",
          "data": {
            "image/png": "[encoded data removed]",
            "text/plain": [
              "<Figure size 360x216 with 1 Axes>"
            ]
          },
          "metadata": {
            "needs_background": "light"
          }
        },
        {
          "output_type": "display_data",
          "data": {
            "image/png": "[encoded data removed]",
            "text/plain": [
              "<Figure size 360x216 with 1 Axes>"
            ]
          },
          "metadata": {
            "needs_background": "light"
          }
        }
      ],
      "id": "JOjDLSj2GfX4"
    },
    {
      "cell_type": "code",
      "source": [
        "del model"
      ],
      "metadata": {
        "id": "BWbcXMcvHfqC"
      },
      "execution_count": 14,
      "outputs": [],
      "id": "BWbcXMcvHfqC"
    },
    {
      "cell_type": "markdown",
      "source": [
        "## More Advanced Models"
      ],
      "metadata": {
        "id": "IqHu4HcbLfqX"
      },
      "id": "IqHu4HcbLfqX"
    },
    {
      "cell_type": "code",
      "source": [
        "model = tf.keras.Sequential()\n",
        "model.add(hub_layer)\n",
        "model.add(Reshape(target_shape=( 512 , 1 )))\n",
        "model.add(Conv1D(512, 1, activation='relu'))\n",
        "model.add(MaxPooling1D(1))\n",
        "model.add(Conv1D(512, 1, activation='relu'))\n",
        "model.add(MaxPooling1D(1))\n",
        "model.add(Conv1D(512, 1, activation='relu'))\n",
        "model.add(MaxPooling1D(5))\n",
        "model.add(Flatten())\n",
        "model.add(Dense(512, activation='relu')) \n",
        "model.add(Dense(1, activation='softmax'))\n",
        "\n",
        "model.summary()\n",
        "\n",
        "model.compile(optimizer='adam',\n",
        "              loss=tf.keras.losses.BinaryCrossentropy(from_logits=True),\n",
        "              metrics=['accuracy'])\n",
        "\n",
        "history = model.fit(x = X_train_data,\n",
        "                    y = y_train_data,\n",
        "                    batch_size=128,\n",
        "                    epochs=10,\n",
        "                    validation_data=(X_val_data, y_val_data),\n",
        "                    verbose=1)\n",
        "\n",
        "results = model.evaluate(x = X_test_data,\n",
        "                         y = y_test_data,\n",
        "                         batch_size=128,\n",
        "                         verbose=2)\n",
        "\n",
        "for name, value in zip(model.metrics_names, results):\n",
        "  print(\"%s: %.3f\" % (name, value))"
      ],
      "metadata": {
        "id": "Skbc7fhOLfZ9",
        "outputId": "4e55970a-c0f9-4b3b-b4d1-b3328307bf19",
        "colab": {
          "base_uri": "https://localhost:8080/"
        }
      },
      "id": "Skbc7fhOLfZ9",
      "execution_count": 20,
      "outputs": [
        {
          "output_type": "stream",
          "name": "stdout",
          "text": [
            "Model: \"sequential_6\"\n",
            "_________________________________________________________________\n",
            " Layer (type)                Output Shape              Param #   \n",
            "=================================================================\n",
            " keras_layer (KerasLayer)    (None, 512)               256797824 \n",
            "                                                                 \n",
            " reshape_5 (Reshape)         (None, 512, 1)            0         \n",
            "                                                                 \n",
            " conv1d_9 (Conv1D)           (None, 512, 512)          1024      \n",
            "                                                                 \n",
            " max_pooling1d_9 (MaxPooling  (None, 512, 512)         0         \n",
            " 1D)                                                             \n",
            "                                                                 \n",
            " conv1d_10 (Conv1D)          (None, 512, 512)          262656    \n",
            "                                                                 \n",
            " max_pooling1d_10 (MaxPoolin  (None, 512, 512)         0         \n",
            " g1D)                                                            \n",
            "                                                                 \n",
            " conv1d_11 (Conv1D)          (None, 512, 512)          262656    \n",
            "                                                                 \n",
            " max_pooling1d_11 (MaxPoolin  (None, 102, 512)         0         \n",
            " g1D)                                                            \n",
            "                                                                 \n",
            " flatten_3 (Flatten)         (None, 52224)             0         \n",
            "                                                                 \n",
            " dense_10 (Dense)            (None, 512)               26739200  \n",
            "                                                                 \n",
            " dense_11 (Dense)            (None, 1)                 513       \n",
            "                                                                 \n",
            "=================================================================\n",
            "Total params: 284,063,873\n",
            "Trainable params: 284,063,873\n",
            "Non-trainable params: 0\n",
            "_________________________________________________________________\n",
            "Epoch 1/10\n"
          ]
        },
        {
          "output_type": "stream",
          "name": "stderr",
          "text": [
            "/usr/local/lib/python3.7/dist-packages/tensorflow/python/util/dispatch.py:1082: UserWarning: \"`binary_crossentropy` received `from_logits=True`, but the `output` argument was produced by a sigmoid or softmax activation and thus does not represent logits. Was this intended?\"\n",
            "  return dispatch_target(*args, **kwargs)\n"
          ]
        },
        {
          "output_type": "stream",
          "name": "stdout",
          "text": [
            "3/3 [==============================] - 9s 2s/step - loss: 0.6554 - accuracy: 0.5239 - val_loss: 0.4829 - val_accuracy: 0.4370\n",
            "Epoch 2/10\n",
            "3/3 [==============================] - 4s 1s/step - loss: 0.2356 - accuracy: 0.5239 - val_loss: 0.1137 - val_accuracy: 0.4370\n",
            "Epoch 3/10\n",
            "3/3 [==============================] - 4s 1s/step - loss: 0.0048 - accuracy: 0.5239 - val_loss: 0.1422 - val_accuracy: 0.4370\n",
            "Epoch 4/10\n",
            "3/3 [==============================] - 3s 1s/step - loss: 2.6289e-06 - accuracy: 0.5239 - val_loss: 0.2163 - val_accuracy: 0.4370\n",
            "Epoch 5/10\n",
            "3/3 [==============================] - 4s 1s/step - loss: 1.6753e-09 - accuracy: 0.5239 - val_loss: 0.3078 - val_accuracy: 0.4370\n",
            "Epoch 6/10\n",
            "3/3 [==============================] - 3s 981ms/step - loss: 1.5981e-12 - accuracy: 0.5239 - val_loss: 0.3990 - val_accuracy: 0.4370\n",
            "Epoch 7/10\n",
            "3/3 [==============================] - 3s 1s/step - loss: 4.2213e-15 - accuracy: 0.5239 - val_loss: 0.4829 - val_accuracy: 0.4370\n",
            "Epoch 8/10\n",
            "3/3 [==============================] - 4s 2s/step - loss: 3.3035e-17 - accuracy: 0.5239 - val_loss: 0.5570 - val_accuracy: 0.4370\n",
            "Epoch 9/10\n",
            "3/3 [==============================] - 3s 1s/step - loss: 7.9520e-19 - accuracy: 0.5239 - val_loss: 0.6225 - val_accuracy: 0.4370\n",
            "Epoch 10/10\n",
            "3/3 [==============================] - 4s 1s/step - loss: 6.7862e-20 - accuracy: 0.5239 - val_loss: 0.6782 - val_accuracy: 0.4370\n",
            "5/5 - 2s - loss: 0.6845 - accuracy: 0.5076 - 2s/epoch - 444ms/step\n",
            "loss: 0.685\n",
            "accuracy: 0.508\n"
          ]
        }
      ]
    },
    {
      "cell_type": "code",
      "source": [
        "epoch_plots(history)"
      ],
      "metadata": {
        "id": "Mwk_Fl7yLfSz",
        "outputId": "cd457ad1-8559-4305-ddf9-525ccc3fe40c",
        "colab": {
          "base_uri": "https://localhost:8080/",
          "height": 465
        }
      },
      "id": "Mwk_Fl7yLfSz",
      "execution_count": 21,
      "outputs": [
        {
          "output_type": "display_data",
          "data": {
            "image/png": "[encoded data removed]",
            "text/plain": [
              "<Figure size 360x216 with 1 Axes>"
            ]
          },
          "metadata": {
            "needs_background": "light"
          }
        },
        {
          "output_type": "display_data",
          "data": {
            "image/png": "[encoded data removed]",
            "text/plain": [
              "<Figure size 360x216 with 1 Axes>"
            ]
          },
          "metadata": {
            "needs_background": "light"
          }
        }
      ]
    },
    {
      "cell_type": "code",
      "source": [
        ""
      ],
      "metadata": {
        "id": "BBgOVLDoM5Lx"
      },
      "id": "BBgOVLDoM5Lx",
      "execution_count": null,
      "outputs": []
    }
  ],
  "metadata": {
    "kernelspec": {
      "display_name": "Python 3",
      "language": "python",
      "name": "python3"
    },
    "language_info": {
      "codemirror_mode": {
        "name": "ipython",
        "version": 3
      },
      "file_extension": ".py",
      "mimetype": "text/x-python",
      "name": "python",
      "nbconvert_exporter": "python",
      "pygments_lexer": "ipython3",
      "version": "3.8.10"
    },
    "colab": {
      "name": "ex3-20ng.ipynb",
      "provenance": [],
      "toc_visible": true,
      "include_colab_link": true
    },
    "accelerator": "GPU"
  },
  "nbformat": 4,
  "nbformat_minor": 5
}